{
 "cells": [
  {
   "cell_type": "code",
   "execution_count": null,
   "metadata": {},
   "outputs": [],
   "source": [
    "# Import standard modules\n",
    "import logging\n",
    "import pandas as pd\n",
    "import numpy as np\n",
    "\n",
    "import warnings\n",
    "warnings.filterwarnings(\"ignore\", category=FutureWarning)\n",
    "\n",
    "import os\n",
    "import sys\n",
    "from pathlib import Path\n",
    "\n",
    "\n",
    "# BASE_DIR = Path(__file__).absolute().parent.parent.parent # Uncomment for python files\n",
    "BASE_DIR = os.path.dirname(os.getcwd()) # Comment for python files\n",
    "sys.path.insert(0, str(Path(BASE_DIR) / 'src'))\n",
    "\n",
    "import settings"
   ]
  },
  {
   "cell_type": "code",
   "execution_count": null,
   "metadata": {},
   "outputs": [],
   "source": [
    "# Global variables\n",
    "RAW_DATA_DIR = Path(settings.RAW_DATA_DIR)\n",
    "RAW_DATA_DIR.mkdir(parents=True, exist_ok=True)\n",
    "LOG_PATH = Path(settings.LOG_DIR) / \"log_file_name.log\"\n",
    "LOG_PATH.parent.mkdir(parents=True, exist_ok=True)\n",
    "\n",
    "START_DATE = settings.START_DATE\n",
    "END_DATE = settings.END_DATE\n",
    "\n",
    "# Set API keys\n",
    "XYZ_API_KEY = settings.XYZ_API_KEY\n",
    "\n",
    "# Set up Logging:\n",
    "logging.basicConfig(\n",
    "    filename=LOG_PATH,\n",
    "    level=logging.INFO,\n",
    "    format=\"%(asctime)s [%(levelname)s] %(message)s\",\n",
    "    datefmt=\"%Y-%m-%d %H:%M:%S\"\n",
    ")\n",
    "\n",
    "# Pandas display settings\n",
    "pd.options.display.max_columns = 30\n",
    "pd.options.display.max_rows = 500\n",
    "pd.options.display.max_colwidth = 100\n",
    "pd.set_option('display.float_format', lambda x: '%.4f' % x)"
   ]
  },
  {
   "cell_type": "code",
   "execution_count": null,
   "metadata": {},
   "outputs": [],
   "source": []
  }
 ],
 "metadata": {
  "kernelspec": {
   "display_name": "full_stack",
   "language": "python",
   "name": "python3"
  },
  "language_info": {
   "codemirror_mode": {
    "name": "ipython",
    "version": 3
   },
   "file_extension": ".py",
   "mimetype": "text/x-python",
   "name": "python",
   "nbconvert_exporter": "python",
   "pygments_lexer": "ipython3",
   "version": "3.12.8"
  }
 },
 "nbformat": 4,
 "nbformat_minor": 2
}
