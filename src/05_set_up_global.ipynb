{
 "cells": [
  {
   "cell_type": "code",
   "execution_count": null,
   "metadata": {},
   "outputs": [],
   "source": [
    "# Import standard modules\n",
    "import logging\n",
    "import pandas as pd\n",
    "import numpy as np\n",
    "\n",
    "import warnings\n",
    "warnings.filterwarnings(\"ignore\", category=FutureWarning)\n",
    "\n",
    "import os\n",
    "import sys\n",
    "from pathlib import Path\n",
    "\n",
    "\n",
    "# BASE_DIR = Path(__file__).absolute().parent.parent.parent # Uncomment for python files\n",
    "BASE_DIR = os.path.dirname(os.getcwd()) # Comment for python files\n",
    "sys.path.insert(0, str(Path(BASE_DIR) / 'src'))\n",
    "\n",
    "import config"
   ]
  },
  {
   "cell_type": "code",
   "execution_count": null,
   "metadata": {},
   "outputs": [],
   "source": [
    "# Global variables\n",
    "RAW_DATA_DIR = Path(config.RAW_DATA_DIR)\n",
    "RAW_DATA_DIR.mkdir(parents=True, exist_ok=True)\n",
    "LOG_PATH = Path(config.LOG_DIR) / \"log_file_name.log\"\n",
    "LOG_PATH.parent.mkdir(parents=True, exist_ok=True)\n",
    "\n",
    "START_DATE = config.START_DATE\n",
    "END_DATE = config.END_DATE\n",
    "\n",
    "# Set API keys\n",
    "XYZ_API_KEY = config.XYZ_API_KEY\n",
    "\n",
    "# Set up Logging:\n",
    "logging.basicConfig(\n",
    "    filename=LOG_PATH,\n",
    "    level=logging.INFO,\n",
    "    format=\"%(asctime)s [%(levelname)s] %(message)s\",\n",
    "    datefmt=\"%Y-%m-%d %H:%M:%S\"\n",
    ")"
   ]
  }
 ],
 "metadata": {
  "kernelspec": {
   "display_name": "full_stack",
   "language": "python",
   "name": "python3"
  },
  "language_info": {
   "name": "python",
   "version": "3.12.8"
  }
 },
 "nbformat": 4,
 "nbformat_minor": 2
}
